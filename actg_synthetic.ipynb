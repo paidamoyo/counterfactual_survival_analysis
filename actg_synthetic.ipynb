{
 "cells": [
  {
   "cell_type": "code",
   "execution_count": 19,
   "metadata": {},
   "outputs": [],
   "source": [
    "import numpy as np\n",
    "import matplotlib.pyplot as plt\n",
    "from lifelines import KaplanMeierFitter\n",
    "import matplotlib.patches as mpatches\n",
    "import scipy\n",
    "from sklearn.manifold import TSNE\n",
    "from scipy.stats import linregress\n",
    "\n",
    "fontsize = 18\n",
    "SMALL_SIZE = 8\n",
    "MEDIUM_SIZE = 10\n",
    "BIGGER_SIZE = 12\n",
    "plt.rc('font', size=MEDIUM_SIZE)  # controls default text sizes\n",
    "plt.rc('axes', titlesize=MEDIUM_SIZE)  # fontsize of the axes title\n",
    "plt.rc('axes', labelsize=MEDIUM_SIZE)  # fontsize of the x and y labels\n",
    "plt.rc('xtick', labelsize=MEDIUM_SIZE)  # fontsize of the tick labels\n",
    "plt.rc('ytick', labelsize=MEDIUM_SIZE)  # fontsize of the tick labels\n",
    "plt.rc('legend', fontsize=MEDIUM_SIZE)  # legend fontsize\n",
    "plt.rc('figure', titlesize=BIGGER_SIZE)  # fontsize of the figure title\n",
    "plt.rc('xtick', labelsize=20)\n",
    "plt.rc('ytick', labelsize=20)\n",
    "\n",
    "font = {'family': 'normal',\n",
    "        'weight': 'bold',\n",
    "        'size': 24}\n",
    "\n",
    "plt.rc('font', **font)\n",
    "params = {'legend.fontsize': 'x-large',\n",
    "          # 'figure.figsize': (15, 5),\n",
    "          'axes.labelsize': 'x-large',\n",
    "          'axes.titlesize': 'x-large',\n",
    "          'xtick.labelsize': 'x-large',\n",
    "          'ytick.labelsize': 'x-large'}\n",
    "\n",
    "plt.rcParams['pdf.fonttype'] = 42\n",
    "plt.rcParams['ps.fonttype'] = 42\n",
    "\n",
    "plt.rcParams.update(params)\n",
    "import seaborn as sns\n",
    "import pandas\n",
    "sns.set_style('white')\n",
    "sns.set_context('paper')\n",
    "sns.set()\n",
    "seed=31415\n",
    "np.random.seed(seed)"
   ]
  },
  {
   "cell_type": "markdown",
   "metadata": {},
   "source": [
    "## ACTG-Synthentic Data\n",
    "\n",
    "We simulate potential outcomes according to a Gompertz-Cox distribution with selection bias from a simple logistic model for $P(A=1| X=x )$ and AFT-based censoring mechanism.  Below is our generative scheme: "
   ]
  },
  {
   "cell_type": "markdown",
   "metadata": {},
   "source": [
    "$$X = \\text{ACTG covariates}$$\n",
    "$$P(A=1|X=x) = \\frac{1}{b} \\times \\left(a + \\sigma\\left( \\eta ({\\rm AGE} - \\mu_{\\rm AGE} + {\\rm CD40} - \\mu_{\\rm CD40}) \\right) \\right)$$\n",
    "$$ U  \\sim {\\rm Uniform} (0, 1 )$$\n",
    "$$T_A  =  \\frac{1}{\\alpha_A} \\log \\left[1 - \\frac{\\alpha_A \\log U}{ \\lambda_A  \\exp\\left( x ^T  \\beta_A\\right)  }  \\right]$$\n",
    "$$\\log C  \\sim {\\rm Normal} (\\mu_c, \\sigma_c^2)$$\n",
    "$$Y = \\min(T_A, C)$$\n",
    "\n",
    "where $\\{ \\beta_A, \\alpha_A, \\lambda_A, b, a, \\eta, \\mu_c, \\sigma_c \\}$ are hyper-parameters and $ \\{\\mu_{\\rm AGE},  \\mu_{\\rm CD40}\\}$ are the means for age and CD40 respectively."
   ]
  },
  {
   "cell_type": "markdown",
   "metadata": {},
   "source": [
    "## Load ACTG175 Data"
   ]
  },
  {
   "cell_type": "code",
   "execution_count": 20,
   "metadata": {},
   "outputs": [
    {
     "name": "stdout",
     "output_type": "stream",
     "text": [
      "head of data:   pidnum  age     wtkg  hemo  homo  drugs  karnof  oprior  z30  zprior  ...  \\\n",
      "1   10056   48  89.8128     0     0      0     100       0    0       1  ...   \n",
      "2   10059   61  49.4424     0     0      0      90       0    1       1  ...   \n",
      "3   10089   45  88.4520     0     1      1      90       0    1       1  ...   \n",
      "4   10093   47  85.2768     0     1      0     100       0    1       1  ...   \n",
      "5   10124   43  66.6792     0     1      0     100       0    1       1  ...   \n",
      "\n",
      "   offtrt  cd40  cd420  cd496  r  cd80  cd820  cens  days  arms  \n",
      "1       0   422    477  660.0  1   566    324     0   948     2  \n",
      "2       0   162    218    NaN  0   392    564     1  1002     3  \n",
      "3       1   326    274  122.0  1  2063   1893     0   961     3  \n",
      "4       0   287    394    NaN  0  1590    966     0  1166     3  \n",
      "5       0   504    353  660.0  1   870    782     0  1090     0  \n",
      "\n",
      "[5 rows x 27 columns], data shape:(2139, 27)\n",
      "unique 2139\n",
      "Index(['pidnum', 'age', 'wtkg', 'hemo', 'homo', 'drugs', 'karnof', 'oprior',\n",
      "       'z30', 'zprior', 'preanti', 'race', 'gender', 'str2', 'strat',\n",
      "       'symptom', 'treat', 'offtrt', 'cd40', 'cd420', 'cd496', 'r', 'cd80',\n",
      "       'cd820', 'cens', 'days', 'arms'],\n",
      "      dtype='object')\n",
      "head of data: (2139, 27)\n"
     ]
    }
   ],
   "source": [
    "#https://rdrr.io/cran/speff2trial/man/ACTG175.html\n",
    "data_frame = pandas.read_csv('data/actg175/ACTG175.csv', index_col=0)\n",
    "print(\"head of data:{}, data shape:{}\".format(data_frame.head(), data_frame.shape))\n",
    "print(\"unique\", len(np.unique(data_frame[['pidnum']])))\n",
    "\n",
    "print(data_frame.columns)\n",
    "\n",
    "#categorical = ['hemo, 'homo', 'drugs', 'oprior', 'z30', 'zprior', 'race', 'gender', \n",
    "#'str2', 'strat', 'symptom', 'treat','offtrt', 'r',  ]\n",
    "# outcome = ['cens', 'days']\n",
    "# treatment = 'arms'\n",
    "# treatment arm (0=zidovudine, 1=zidovudine and didanosine, 2=zidovudine and zalcitabine, 3=didanosine)\n",
    "\n",
    "to_drop = ['cens', 'days', 'arms', 'pidnum']\n",
    "\n",
    "\n",
    "\n",
    "#print(\"head of x_data:\", x_data.shape)\n",
    "print(\"head of data:\",  data_frame.shape)"
   ]
  },
  {
   "cell_type": "code",
   "execution_count": 21,
   "metadata": {},
   "outputs": [
    {
     "name": "stdout",
     "output_type": "stream",
     "text": [
      "pidnum     False\n",
      "age        False\n",
      "wtkg       False\n",
      "hemo       False\n",
      "homo       False\n",
      "drugs      False\n",
      "karnof     False\n",
      "oprior     False\n",
      "z30        False\n",
      "zprior     False\n",
      "preanti    False\n",
      "race       False\n",
      "gender     False\n",
      "str2       False\n",
      "strat      False\n",
      "symptom    False\n",
      "treat      False\n",
      "offtrt     False\n",
      "cd40       False\n",
      "cd420      False\n",
      "cd496       True\n",
      "r          False\n",
      "cd80       False\n",
      "cd820      False\n",
      "cens       False\n",
      "days       False\n",
      "arms       False\n",
      "dtype: bool\n"
     ]
    }
   ],
   "source": [
    "print(data_frame.isna().any())"
   ]
  },
  {
   "cell_type": "code",
   "execution_count": 22,
   "metadata": {},
   "outputs": [
    {
     "name": "stdout",
     "output_type": "stream",
     "text": [
      "na_data description:             cd496\n",
      "count  1342.000000\n",
      "mean    328.570790\n",
      "std     174.656153\n",
      "min       0.000000\n",
      "25%     209.250000\n",
      "50%     321.000000\n",
      "75%     440.000000\n",
      "max    1190.000000\n"
     ]
    }
   ],
   "source": [
    "na_columns = ['cd496']\n",
    "na_data = data_frame[na_columns]\n",
    "print(\"na_data description:{}\".format(na_data.describe()))"
   ]
  },
  {
   "cell_type": "code",
   "execution_count": 23,
   "metadata": {},
   "outputs": [
    {
     "name": "stdout",
     "output_type": "stream",
     "text": [
      "missing_proportion:1.3800148910013332\n"
     ]
    }
   ],
   "source": [
    "def print_missing_prop(covariates):\n",
    "    missing = np.array(np.isnan(covariates), dtype=float)\n",
    "    shape = np.shape(covariates)\n",
    "    proportion = np.sum(missing) / (shape[0] * shape[1]) * 100\n",
    "    print(\"missing_proportion:{}\".format(proportion))\n",
    "    \n",
    "\n",
    "print_missing_prop(data_frame)"
   ]
  },
  {
   "cell_type": "code",
   "execution_count": 24,
   "metadata": {},
   "outputs": [],
   "source": [
    "data_frame = data_frame.fillna(data_frame.median())"
   ]
  },
  {
   "cell_type": "code",
   "execution_count": 25,
   "metadata": {},
   "outputs": [
    {
     "name": "stdout",
     "output_type": "stream",
     "text": [
      "pidnum     False\n",
      "age        False\n",
      "wtkg       False\n",
      "hemo       False\n",
      "homo       False\n",
      "drugs      False\n",
      "karnof     False\n",
      "oprior     False\n",
      "z30        False\n",
      "zprior     False\n",
      "preanti    False\n",
      "race       False\n",
      "gender     False\n",
      "str2       False\n",
      "strat      False\n",
      "symptom    False\n",
      "treat      False\n",
      "offtrt     False\n",
      "cd40       False\n",
      "cd420      False\n",
      "cd496      False\n",
      "r          False\n",
      "cd80       False\n",
      "cd820      False\n",
      "cens       False\n",
      "days       False\n",
      "arms       False\n",
      "dtype: bool\n"
     ]
    }
   ],
   "source": [
    "print(data_frame.isna().any())\n"
   ]
  },
  {
   "cell_type": "code",
   "execution_count": 26,
   "metadata": {},
   "outputs": [
    {
     "name": "stdout",
     "output_type": "stream",
     "text": [
      "age description:               age\n",
      "count  2139.000000\n",
      "mean     35.248247\n",
      "std       8.709026\n",
      "min      12.000000\n",
      "25%      29.000000\n",
      "50%      34.000000\n",
      "75%      40.000000\n",
      "max      70.000000\n",
      "(2139,)\n"
     ]
    }
   ],
   "source": [
    "age_data = data_frame[['age']]\n",
    "print(\"age description:{}\".format(age_data.describe()))\n",
    "age_data =np.array(age_data).reshape(len(age_data))\n",
    "print(age_data.shape)\n",
    "mu_age = np.mean(age_data)"
   ]
  },
  {
   "cell_type": "code",
   "execution_count": 27,
   "metadata": {},
   "outputs": [
    {
     "name": "stdout",
     "output_type": "stream",
     "text": [
      "cd40_data description:              cd40\n",
      "count  2139.000000\n",
      "mean    350.501169\n",
      "std     118.573863\n",
      "min       0.000000\n",
      "25%     263.500000\n",
      "50%     340.000000\n",
      "75%     423.000000\n",
      "max    1199.000000\n",
      "(2139,)\n"
     ]
    }
   ],
   "source": [
    "cd40_data = data_frame[['cd40']]\n",
    "print(\"cd40_data description:{}\".format(cd40_data.describe()))\n",
    "cd40_data=np.array(cd40_data).reshape(len(cd40_data))\n",
    "print(cd40_data.shape)\n",
    "mu_cd40 = np.mean(cd40_data) "
   ]
  },
  {
   "cell_type": "code",
   "execution_count": 28,
   "metadata": {
    "scrolled": true
   },
   "outputs": [
    {
     "name": "stdout",
     "output_type": "stream",
     "text": [
      "covariate description:               age         wtkg         hemo         homo        drugs  \\\n",
      "count  2139.000000  2139.000000  2139.000000  2139.000000  2139.000000   \n",
      "mean     35.248247    75.125311     0.084151     0.661057     0.131370   \n",
      "std       8.709026    13.263164     0.277680     0.473461     0.337883   \n",
      "min      12.000000    31.000000     0.000000     0.000000     0.000000   \n",
      "25%      29.000000    66.679200     0.000000     0.000000     0.000000   \n",
      "50%      34.000000    74.390400     0.000000     1.000000     0.000000   \n",
      "75%      40.000000    82.555200     0.000000     1.000000     0.000000   \n",
      "max      70.000000   159.939360     1.000000     1.000000     1.000000   \n",
      "\n",
      "            karnof       oprior          z30  zprior      preanti  ...  \\\n",
      "count  2139.000000  2139.000000  2139.000000  2139.0  2139.000000  ...   \n",
      "mean     95.446470     0.021973     0.550257     1.0   379.175783  ...   \n",
      "std       5.900985     0.146629     0.497584     0.0   468.657526  ...   \n",
      "min      70.000000     0.000000     0.000000     1.0     0.000000  ...   \n",
      "25%      90.000000     0.000000     0.000000     1.0     0.000000  ...   \n",
      "50%     100.000000     0.000000     1.000000     1.0   142.000000  ...   \n",
      "75%     100.000000     0.000000     1.000000     1.0   739.500000  ...   \n",
      "max     100.000000     1.000000     1.000000     1.0  2851.000000  ...   \n",
      "\n",
      "             strat      symptom        treat       offtrt         cd40  \\\n",
      "count  2139.000000  2139.000000  2139.000000  2139.000000  2139.000000   \n",
      "mean      1.979897     0.172978     0.751286     0.362786   350.501169   \n",
      "std       0.899053     0.378317     0.432369     0.480916   118.573863   \n",
      "min       1.000000     0.000000     0.000000     0.000000     0.000000   \n",
      "25%       1.000000     0.000000     1.000000     0.000000   263.500000   \n",
      "50%       2.000000     0.000000     1.000000     0.000000   340.000000   \n",
      "75%       3.000000     0.000000     1.000000     1.000000   423.000000   \n",
      "max       3.000000     1.000000     1.000000     1.000000  1199.000000   \n",
      "\n",
      "             cd420        cd496            r         cd80        cd820  \n",
      "count  2139.000000  2139.000000  2139.000000  2139.000000  2139.000000  \n",
      "mean    371.307153   325.749883     0.627396   986.627396   935.369799  \n",
      "std     144.634909   138.371457     0.483611   480.197750   444.976051  \n",
      "min      49.000000     0.000000     0.000000    40.000000   124.000000  \n",
      "25%     269.000000   279.500000     0.000000   654.000000   631.500000  \n",
      "50%     353.000000   321.000000     1.000000   893.000000   865.000000  \n",
      "75%     460.000000   364.500000     1.000000  1207.000000  1146.500000  \n",
      "max    1119.000000  1190.000000     1.000000  5011.000000  6035.000000  \n",
      "\n",
      "[8 rows x 23 columns]\n",
      "(2139, 23)\n"
     ]
    }
   ],
   "source": [
    "x_data =  data_frame.drop(labels=to_drop, axis=1)\n",
    "print(\"covariate description:{}\".format(x_data.describe()))\n",
    "x_data =np.array(x_data).reshape(x_data.shape)\n",
    "print(x_data.shape)"
   ]
  },
  {
   "cell_type": "markdown",
   "metadata": {},
   "source": [
    "# Semi-Simulations"
   ]
  },
  {
   "cell_type": "code",
   "execution_count": 29,
   "metadata": {},
   "outputs": [
    {
     "name": "stdout",
     "output_type": "stream",
     "text": [
      "beta_one:  (23,)\n"
     ]
    }
   ],
   "source": [
    "# Beta for T=1\n",
    "#    age          wtkg          hemo          homo         drugs        karnof        oprior           z30        zprior       preanti \n",
    "#  0.0026987044  0.0094957416 -0.2047708817 -0.0518243280 -0.2168722467  0.0076266828 -0.0796099695  0.6258748940            NA  0.0009670592 \n",
    "#          race        gender          str2         strat       symptom         treat        offtrt          cd40         cd420         cd496 \n",
    "# -1.0101809693 -0.4038655688 -1.5959739338 -0.0563572096  0.5244218189            NA  0.2280296997  0.0035548596 -0.0047974742 -0.0121293815 \n",
    "#             r          cd80         cd820 \n",
    "# -1.0625208970 -0.0004266264  0.0005844290 \n",
    "\n",
    "beta_one = [ 0.0026987044,  0.0094957416, -0.2047708817, -0.0518243280, -0.2168722467,  0.0076266828, -0.0796099695,  \n",
    "            0.6258748940, 0, 0.0009670592, -1.0101809693, -0.4038655688, -1.5959739338, -0.0563572096, 0.5244218189,    \n",
    "            0,  0.2280296997,  0.0035548596, -0.0047974742, -0.0121293815, -1.0625208970, -0.0004266264,0.0005844290 ]\n",
    "\n",
    "beta_one = np.array(beta_one)\n",
    "print(\"beta_one: \", beta_one.shape)\n",
    "\n",
    "assert(beta_one.shape[0] == x_data.shape[1])\n",
    "\n",
    "\n",
    "\n",
    "\n"
   ]
  },
  {
   "cell_type": "code",
   "execution_count": 30,
   "metadata": {},
   "outputs": [
    {
     "name": "stdout",
     "output_type": "stream",
     "text": [
      "beta_zero:  (23,)\n"
     ]
    }
   ],
   "source": [
    "## Beta for T=0\n",
    "\n",
    "#          age          wtkg          hemo          homo         drugs        karnof        oprior           z30        zprior       preanti \n",
    "#  1.148569e-02  3.896347e-03 -3.337743e-02 -1.215442e-01 -6.036002e-01  4.563380e-03 -5.217492e-02  1.414948e+00            NA  9.294612e-06 \n",
    "#          race        gender          str2         strat       symptom         treat        offtrt          cd40         cd420         cd496 \n",
    "#  7.863787e-02  4.756738e-01 -7.807835e-01 -1.766999e-01  1.622865e-01            NA  1.551692e-01  2.793350e-03 -6.417969e-03 -9.856514e-03 \n",
    "#             r          cd80         cd820 \n",
    "# -1.127284e+00  2.247806e-04  1.952943e-04 \n",
    "\n",
    "\n",
    "beta_zero = [1.148569e-02,  3.896347e-03, -3.337743e-02, -1.215442e-01, -6.036002e-01,  4.563380e-03, -5.217492e-02,\n",
    "             1.414948e+00, 0,  9.294612e-06, 7.863787e-02,  4.756738e-01, -7.807835e-01, -1.766999e-01,  1.622865e-01,\n",
    "             0,  1.551692e-01,  2.793350e-03, -6.417969e-03, -9.856514e-03,  -1.127284e+00, \n",
    "             2.247806e-04,  1.952943e-04] \n",
    "beta_zero = np.array(beta_zero)\n",
    "print(\"beta_zero: \", beta_zero.shape)\n",
    "\n",
    "assert(beta_zero.shape[0] == x_data.shape[1])\n"
   ]
  },
  {
   "cell_type": "code",
   "execution_count": 31,
   "metadata": {},
   "outputs": [],
   "source": [
    "def sigmoid(a):\n",
    "    return 1/(1 + np.exp(-a))"
   ]
  },
  {
   "cell_type": "code",
   "execution_count": 32,
   "metadata": {},
   "outputs": [
    {
     "name": "stderr",
     "output_type": "stream",
     "text": [
      "/Users/paidamoyochapfuwa/.pyenv/versions/3.6.4/envs/csa_prod/lib/python3.6/site-packages/ipykernel_launcher.py:2: RuntimeWarning: overflow encountered in exp\n",
      "  \n"
     ]
    }
   ],
   "source": [
    "# random varibles for data (x, y, \\delta, a)\n",
    "N = x_data.shape[0]\n",
    "\n",
    "T_F = np.zeros(N)\n",
    "T_CF = np.zeros(N)\n",
    "Y_F = np.zeros(N)\n",
    "Y_CF = np.zeros(N)\n",
    "delta_F = np.zeros(N)\n",
    "delta_CF = np.zeros(N)\n",
    "A =  np.zeros(N)\n",
    "prop =  np.zeros(N)\n",
    "\n",
    "time = 'days'\n",
    "c_mean_time = 1000 # mean censoring time\n",
    "c_std_time = 100 # std censoring time\n",
    "\n",
    "lamd_zero = 6 * 1e-4\n",
    "lamd_one = 6 * 1e-4\n",
    "alpha = 0.0055\n",
    "\n",
    "U_0 =  np.random.uniform(0,1, size=(N))\n",
    "U_1 =  np.random.uniform(0,1, size=(N))\n",
    "#C = np.random.uniform(c_start_time, c_end_time, size=N) # Non-Informative censoring\n",
    "C = np.random.normal(c_mean_time, c_std_time, size=(N))\n",
    "gamma = -30\n",
    "b_zero = 0\n",
    "\n",
    "\n",
    "for i in range(N):\n",
    "    \n",
    "    pos_age_i = age_data[i]\n",
    "    beta_i = gamma * ((pos_age_i - mu_age) + (cd40_data[i]-mu_cd40))# counfounding\n",
    "    #beta_i =  gamma * (pos_age_i - mu_age) \n",
    "    \n",
    "    balance = 1.5 # parameter to balance\n",
    "    prop_i = 1/balance * (0.3 + sigmoid(beta_i))\n",
    "    prop[i] = prop_i\n",
    "    \n",
    "    A_i = np.random.binomial(n=1, p=prop_i, size=1)[0]\n",
    "    A[i] = A_i\n",
    "    \n",
    "    cov_eff_T_0 = lamd_zero * np.exp(np.dot(x_data[i], beta_zero))\n",
    "    cov_eff_T_1 = lamd_one * np.exp(np.dot(x_data[i], beta_one))\n",
    "    \n",
    "                       \n",
    "    stoch_0 = alpha * np.log(U_0[i])\n",
    "    stoch_1 = alpha * np.log(U_1[i])\n",
    "    \n",
    "\n",
    "    T_1_i = 1/alpha * np.log(1 - stoch_1/cov_eff_T_1) + b_zero\n",
    "    T_0_i = 1/alpha * np.log(1 - stoch_0/cov_eff_T_0)  \n",
    "    \n",
    "    T_F_i =  A_i * T_1_i + (1-A_i) * T_0_i\n",
    "    T_CF_i = (1-A_i) * T_1_i + A_i * T_0_i\n",
    "    \n",
    "    \n",
    "    C_i = C[i]\n",
    "\n",
    "    Y_F_i = min(T_F_i, C_i)\n",
    "    Y_CF_i = min(T_CF_i, C_i)\n",
    "    \n",
    "    delta_F_i = T_F_i <= C_i\n",
    "    delta_F[i] = delta_F_i\n",
    "    \n",
    "    delta_CF_i = T_CF_i <= C_i\n",
    "    delta_CF[i] = delta_CF_i \n",
    "    \n",
    "    T_F[i] = T_F_i\n",
    "    T_CF[i] = T_CF_i\n",
    "    \n",
    "    \n",
    "    Y_F[i] = Y_F_i\n",
    "    Y_CF[i] = Y_CF_i\n",
    "    \n",
    "\n"
   ]
  },
  {
   "cell_type": "markdown",
   "metadata": {},
   "source": [
    "# Save Data "
   ]
  },
  {
   "cell_type": "code",
   "execution_count": 33,
   "metadata": {},
   "outputs": [],
   "source": [
    "np.save('data/actg175_simulated/covariates', x_data)\n",
    "np.save('data/actg175_simulated/treatment', A)\n",
    "\n",
    "data_F = {'y_f': Y_F, 'e_f': delta_F, 't_f': T_F, 'y_cf': Y_CF, 'e_cf': delta_CF, 't_cf': T_CF}\n",
    "df = pandas.DataFrame.from_dict(data_F)\n",
    "df.to_csv('data/actg175_simulated/event_pairs.csv', index=False)"
   ]
  }
 ],
 "metadata": {
  "kernelspec": {
   "display_name": "Python 3",
   "language": "python",
   "name": "python3"
  },
  "language_info": {
   "codemirror_mode": {
    "name": "ipython",
    "version": 3
   },
   "file_extension": ".py",
   "mimetype": "text/x-python",
   "name": "python",
   "nbconvert_exporter": "python",
   "pygments_lexer": "ipython3",
   "version": "3.6.4"
  }
 },
 "nbformat": 4,
 "nbformat_minor": 4
}
